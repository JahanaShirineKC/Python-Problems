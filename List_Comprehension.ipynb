{
  "nbformat": 4,
  "nbformat_minor": 0,
  "metadata": {
    "colab": {
      "provenance": [],
      "authorship_tag": "ABX9TyMApX2idO2QnEZru8W/jACc"
    },
    "kernelspec": {
      "name": "python3",
      "display_name": "Python 3"
    },
    "language_info": {
      "name": "python"
    }
  },
  "cells": [
    {
      "cell_type": "code",
      "execution_count": 1,
      "metadata": {
        "colab": {
          "base_uri": "https://localhost:8080/"
        },
        "id": "HUXPfM5gN6Ro",
        "outputId": "1eaab934-a160-4169-eaa4-f033b6844bb0"
      },
      "outputs": [
        {
          "output_type": "stream",
          "name": "stdout",
          "text": [
            "[0, 1, 2, 3]\n"
          ]
        }
      ],
      "source": [
        "result = [i for i in range(4)]\n",
        "print(result)"
      ]
    },
    {
      "cell_type": "code",
      "source": [
        "print([ i**2 for i in range(5)])"
      ],
      "metadata": {
        "colab": {
          "base_uri": "https://localhost:8080/"
        },
        "id": "faGgyh4VOHvG",
        "outputId": "eb9d18bd-65e4-4c67-b621-f641dc70d68c"
      },
      "execution_count": 3,
      "outputs": [
        {
          "output_type": "stream",
          "name": "stdout",
          "text": [
            "[0, 1, 4, 9, 16]\n"
          ]
        }
      ]
    },
    {
      "cell_type": "markdown",
      "source": [
        "**With condition**"
      ],
      "metadata": {
        "id": "16go_PcrOxSD"
      }
    },
    {
      "cell_type": "markdown",
      "source": [
        "If"
      ],
      "metadata": {
        "id": "2Y4aDrimO1oD"
      }
    },
    {
      "cell_type": "code",
      "source": [
        "print([i for i in range(10) if i%2 == 0])"
      ],
      "metadata": {
        "colab": {
          "base_uri": "https://localhost:8080/"
        },
        "id": "2vnD1LotOvEl",
        "outputId": "76bc6dc1-df9c-4515-ee03-19c57b48a8b7"
      },
      "execution_count": 5,
      "outputs": [
        {
          "output_type": "stream",
          "name": "stdout",
          "text": [
            "[0, 2, 4, 6, 8]\n"
          ]
        }
      ]
    },
    {
      "cell_type": "code",
      "source": [
        "print([i for i in range(10) if i>5])"
      ],
      "metadata": {
        "colab": {
          "base_uri": "https://localhost:8080/"
        },
        "id": "jBD35Qr2PI91",
        "outputId": "7b10a5bc-a8c3-49e4-dd30-f3b4aaa6afe1"
      },
      "execution_count": 6,
      "outputs": [
        {
          "output_type": "stream",
          "name": "stdout",
          "text": [
            "[6, 7, 8, 9]\n"
          ]
        }
      ]
    },
    {
      "cell_type": "markdown",
      "source": [
        "if else"
      ],
      "metadata": {
        "id": "8OlLTBCpPHGf"
      }
    },
    {
      "cell_type": "code",
      "source": [
        "print([i if i%2==0 else 0 for i in range(10)])"
      ],
      "metadata": {
        "colab": {
          "base_uri": "https://localhost:8080/"
        },
        "id": "vTIB8rAkPEFd",
        "outputId": "c5167792-7c07-4566-901e-f2c4abc4d903"
      },
      "execution_count": 7,
      "outputs": [
        {
          "output_type": "stream",
          "name": "stdout",
          "text": [
            "[0, 0, 2, 0, 4, 0, 6, 0, 8, 0]\n"
          ]
        }
      ]
    },
    {
      "cell_type": "markdown",
      "source": [
        "More Examples"
      ],
      "metadata": {
        "id": "WVPhqc9aPiIw"
      }
    },
    {
      "cell_type": "code",
      "source": [
        "words = ['apple', 'banana', 'cherry']\n",
        "print([i.upper() for i in words])"
      ],
      "metadata": {
        "colab": {
          "base_uri": "https://localhost:8080/"
        },
        "id": "vHAqgmc7PWOK",
        "outputId": "35f3219d-352b-4505-81af-ee25792bdf89"
      },
      "execution_count": 11,
      "outputs": [
        {
          "output_type": "stream",
          "name": "stdout",
          "text": [
            "['APPLE', 'BANANA', 'CHERRY']\n"
          ]
        }
      ]
    },
    {
      "cell_type": "code",
      "source": [
        "print([len(i) for i in words])"
      ],
      "metadata": {
        "colab": {
          "base_uri": "https://localhost:8080/"
        },
        "id": "peAUu3n8PgC2",
        "outputId": "540f709c-4f8e-4e01-88af-e5d8b2fa4baf"
      },
      "execution_count": 12,
      "outputs": [
        {
          "output_type": "stream",
          "name": "stdout",
          "text": [
            "[5, 6, 6]\n"
          ]
        }
      ]
    },
    {
      "cell_type": "code",
      "source": [
        "color = [\"red\", \"yellow\", \"red\"]\n",
        "print([(c,f) for c in color for f in words])"
      ],
      "metadata": {
        "colab": {
          "base_uri": "https://localhost:8080/"
        },
        "id": "ABrepCXbPyD-",
        "outputId": "ee0e48df-26f6-48fc-e804-e2a8d5f5314e"
      },
      "execution_count": 14,
      "outputs": [
        {
          "output_type": "stream",
          "name": "stdout",
          "text": [
            "[('red', 'apple'), ('red', 'banana'), ('red', 'cherry'), ('yellow', 'apple'), ('yellow', 'banana'), ('yellow', 'cherry'), ('red', 'apple'), ('red', 'banana'), ('red', 'cherry')]\n"
          ]
        }
      ]
    },
    {
      "cell_type": "markdown",
      "source": [
        "1. Create a list of cubes for numbers 1 to 10."
      ],
      "metadata": {
        "id": "mVMFS7eCQNMI"
      }
    },
    {
      "cell_type": "code",
      "source": [
        "print([i**3 for i in range(1,11)])"
      ],
      "metadata": {
        "colab": {
          "base_uri": "https://localhost:8080/"
        },
        "id": "wrEiLzAnP7Jv",
        "outputId": "3eb0d5ec-b117-486f-e87b-a8c44a56fcac"
      },
      "execution_count": 15,
      "outputs": [
        {
          "output_type": "stream",
          "name": "stdout",
          "text": [
            "[1, 8, 27, 64, 125, 216, 343, 512, 729, 1000]\n"
          ]
        }
      ]
    },
    {
      "cell_type": "markdown",
      "source": [
        "2.From a list of strings, get only those that start with a vowel."
      ],
      "metadata": {
        "id": "46bm7GSWQbaR"
      }
    },
    {
      "cell_type": "code",
      "source": [
        "words = ['apple', 'banana', 'cherry']\n",
        "\n",
        "print([word for word in words if word[0] in ['a','e','i','o','u']])"
      ],
      "metadata": {
        "colab": {
          "base_uri": "https://localhost:8080/"
        },
        "id": "nVe4gT7ZQXcc",
        "outputId": "a1d8cec9-4655-4abb-bb37-7e5f64196649"
      },
      "execution_count": 20,
      "outputs": [
        {
          "output_type": "stream",
          "name": "stdout",
          "text": [
            "['apple']\n"
          ]
        }
      ]
    },
    {
      "cell_type": "markdown",
      "source": [
        "3. Replace negative numbers in a list with 0.\n"
      ],
      "metadata": {
        "id": "iKx65wWIRX_T"
      }
    },
    {
      "cell_type": "code",
      "source": [
        "a = [1, 30 , -30 , 47 , -3 , -5]\n",
        "print([i if i > 0 else 0 for i in a])"
      ],
      "metadata": {
        "colab": {
          "base_uri": "https://localhost:8080/"
        },
        "id": "qFdbNT8nRXug",
        "outputId": "c7f5ce6f-2d89-4d56-ea00-0576b9768aaa"
      },
      "execution_count": 22,
      "outputs": [
        {
          "output_type": "stream",
          "name": "stdout",
          "text": [
            "[1, 30, 0, 47, 0, 0]\n"
          ]
        }
      ]
    },
    {
      "cell_type": "markdown",
      "source": [
        "Nested"
      ],
      "metadata": {
        "id": "jjJ8nsW_RygT"
      }
    },
    {
      "cell_type": "code",
      "source": [
        "[(i, j) for i in range(3) for j in range(2)]\n"
      ],
      "metadata": {
        "colab": {
          "base_uri": "https://localhost:8080/"
        },
        "id": "GVpf7lJrRf5Z",
        "outputId": "73304adb-18f5-4e25-8105-a8d1ac6e7bbf"
      },
      "execution_count": 23,
      "outputs": [
        {
          "output_type": "execute_result",
          "data": {
            "text/plain": [
              "[(0, 0), (0, 1), (1, 0), (1, 1), (2, 0), (2, 1)]"
            ]
          },
          "metadata": {},
          "execution_count": 23
        }
      ]
    },
    {
      "cell_type": "markdown",
      "source": [
        "Nested list\n"
      ],
      "metadata": {
        "id": "4FYLm267R7iW"
      }
    },
    {
      "cell_type": "code",
      "source": [
        "# flatten 2D List"
      ],
      "metadata": {
        "id": "5oYdYEPNQgo_"
      },
      "execution_count": 24,
      "outputs": []
    },
    {
      "cell_type": "code",
      "source": [
        "matrix = [[1, 2, 3], [4, 5, 6], [7, 8, 9]]\n",
        "\n",
        "flattened = [ num for row in matrix for num in row]\n",
        "\n",
        "print(flattened)"
      ],
      "metadata": {
        "colab": {
          "base_uri": "https://localhost:8080/"
        },
        "id": "BUjQsmogSA9o",
        "outputId": "ce374b63-3dfa-4839-8980-fbb0bc9f7688"
      },
      "execution_count": 25,
      "outputs": [
        {
          "output_type": "stream",
          "name": "stdout",
          "text": [
            "[1, 2, 3, 4, 5, 6, 7, 8, 9]\n"
          ]
        }
      ]
    },
    {
      "cell_type": "code",
      "source": [
        "#transpose\n",
        "matrix = [[1, 2, 3], [4, 5, 6]]\n",
        "transpose = [[row[i] for row in matrix] for i in range(3)]\n",
        "\n",
        "print(transpose)"
      ],
      "metadata": {
        "colab": {
          "base_uri": "https://localhost:8080/"
        },
        "id": "hncv-0dHSOnZ",
        "outputId": "c23b7b0c-67e0-48bb-c613-bf1744a9c94f"
      },
      "execution_count": 35,
      "outputs": [
        {
          "output_type": "stream",
          "name": "stdout",
          "text": [
            "[[1, 4], [2, 5], [3, 6]]\n"
          ]
        }
      ]
    },
    {
      "cell_type": "markdown",
      "source": [
        "1. Generate a 5x5 matrix filled with zeros."
      ],
      "metadata": {
        "id": "rcffGMqrTu73"
      }
    },
    {
      "cell_type": "code",
      "source": [
        "matrix = [[0 for row in range(5)] for i in range(5) ]\n",
        "print(matrix)"
      ],
      "metadata": {
        "colab": {
          "base_uri": "https://localhost:8080/"
        },
        "id": "ZwzF6T6dTxHY",
        "outputId": "e65e23ce-3f80-4860-8e10-28ffcfe55e1c"
      },
      "execution_count": 37,
      "outputs": [
        {
          "output_type": "stream",
          "name": "stdout",
          "text": [
            "[[0, 0, 0, 0, 0], [0, 0, 0, 0, 0], [0, 0, 0, 0, 0], [0, 0, 0, 0, 0], [0, 0, 0, 0, 0]]\n"
          ]
        }
      ]
    },
    {
      "cell_type": "markdown",
      "source": [
        "2. Create a list of pairs where the sum of numbers is even:"
      ],
      "metadata": {
        "id": "5kiX9qNWUmNE"
      }
    },
    {
      "cell_type": "code",
      "source": [
        "print([(i,j) for i in range(1,4) for j in range(1,5) if (i + j) % 2 == 0])"
      ],
      "metadata": {
        "colab": {
          "base_uri": "https://localhost:8080/"
        },
        "id": "lk2v6AKFT6Du",
        "outputId": "6ff589dc-6438-4bfa-e21c-d882c177a40b"
      },
      "execution_count": 41,
      "outputs": [
        {
          "output_type": "stream",
          "name": "stdout",
          "text": [
            "[(1, 1), (1, 3), (2, 2), (2, 4), (3, 1), (3, 3)]\n"
          ]
        }
      ]
    },
    {
      "cell_type": "markdown",
      "source": [
        "Reverse each word in a list"
      ],
      "metadata": {
        "id": "U8Ow1QQjVWIc"
      }
    },
    {
      "cell_type": "code",
      "source": [
        "words = ['apple', 'banana', 'cherry']\n",
        "print([word[::-1] for word in words])"
      ],
      "metadata": {
        "colab": {
          "base_uri": "https://localhost:8080/"
        },
        "id": "baoYkei-VVhG",
        "outputId": "db6212a6-cff5-4332-ea07-28e35a90a029"
      },
      "execution_count": 42,
      "outputs": [
        {
          "output_type": "stream",
          "name": "stdout",
          "text": [
            "['elppa', 'ananab', 'yrrehc']\n"
          ]
        }
      ]
    },
    {
      "cell_type": "markdown",
      "source": [
        "Get all numbers divisible by both 3 and 5 from 1 to 100"
      ],
      "metadata": {
        "id": "Jx9v3JR0Vham"
      }
    },
    {
      "cell_type": "code",
      "source": [
        "print([x for x in range(1,101) if x % 3 == 0 and x % 5 == 0])"
      ],
      "metadata": {
        "colab": {
          "base_uri": "https://localhost:8080/"
        },
        "id": "vMMte5k4Vpli",
        "outputId": "c104df76-9b31-4a76-b641-f73b8bffdf14"
      },
      "execution_count": 43,
      "outputs": [
        {
          "output_type": "stream",
          "name": "stdout",
          "text": [
            "[15, 30, 45, 60, 75, 90]\n"
          ]
        }
      ]
    },
    {
      "cell_type": "markdown",
      "source": [
        "Get all the palindromes from the list"
      ],
      "metadata": {
        "id": "Gk_Xc07UV_se"
      }
    },
    {
      "cell_type": "code",
      "source": [
        "words = ['level', 'radar', 'world', 'madam', 'python']\n",
        "print([i for i in words if i == i[::-1]])\n"
      ],
      "metadata": {
        "colab": {
          "base_uri": "https://localhost:8080/"
        },
        "id": "ECPzJJCdWD5Y",
        "outputId": "e96ffae5-d107-4531-a72b-6d9fcd19cacb"
      },
      "execution_count": 45,
      "outputs": [
        {
          "output_type": "stream",
          "name": "stdout",
          "text": [
            "['level', 'radar', 'madam']\n"
          ]
        }
      ]
    },
    {
      "cell_type": "markdown",
      "source": [
        "Prime numbers"
      ],
      "metadata": {
        "id": "wzMNEkaPWe3W"
      }
    },
    {
      "cell_type": "code",
      "source": [
        "Primes = [n for n in range(2,51) if all(n % d != 0 for d in range(2,int(n/2)+ 1))]\n",
        "print(Primes)"
      ],
      "metadata": {
        "colab": {
          "base_uri": "https://localhost:8080/"
        },
        "id": "rp1qjC_cWgmK",
        "outputId": "924cadf0-e9b3-41c4-ab82-9fc88d98399a"
      },
      "execution_count": 49,
      "outputs": [
        {
          "output_type": "stream",
          "name": "stdout",
          "text": [
            "[2, 3, 5, 7, 11, 13, 17, 19, 23, 29, 31, 37, 41, 43, 47]\n"
          ]
        }
      ]
    }
  ]
}