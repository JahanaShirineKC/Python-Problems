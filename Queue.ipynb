{
  "nbformat": 4,
  "nbformat_minor": 0,
  "metadata": {
    "colab": {
      "provenance": [],
      "authorship_tag": "ABX9TyPpF5+85Enal5im+iFe0X7Y"
    },
    "kernelspec": {
      "name": "python3",
      "display_name": "Python 3"
    },
    "language_info": {
      "name": "python"
    }
  },
  "cells": [
    {
      "cell_type": "code",
      "execution_count": 4,
      "metadata": {
        "colab": {
          "base_uri": "https://localhost:8080/"
        },
        "id": "td5NLPfe3Fbu",
        "outputId": "619dc850-20f3-4ec4-f148-51c27743c119"
      },
      "outputs": [
        {
          "output_type": "stream",
          "name": "stdout",
          "text": [
            "50\n",
            "40\n",
            "2\n",
            "50\n",
            "40\n",
            "True\n"
          ]
        }
      ],
      "source": [
        "class Queue:\n",
        "    def __init__(self):\n",
        "        self.items = []\n",
        "    def Enqueue(self,item):\n",
        "        self.items.append(item)\n",
        "    def Dequeue(self):\n",
        "        if not self.is_empty():\n",
        "            return self.items.pop(0)\n",
        "    def front(self):\n",
        "        if not self.is_empty():\n",
        "            return self.items[0]\n",
        "    def rear(self):\n",
        "        if not self.is_empty():\n",
        "            return self.items[-1]\n",
        "    def is_empty(self):\n",
        "        return len(self.items) == 0\n",
        "    def size(self):\n",
        "        return len(self.items)\n",
        "\n",
        "Queue = Queue()\n",
        "Queue.Enqueue(50)\n",
        "Queue.Enqueue(40)\n",
        "print(Queue.front())\n",
        "print(Queue.rear())\n",
        "print(Queue.size())\n",
        "print(Queue.Dequeue())\n",
        "print(Queue.Dequeue())\n",
        "print(Queue.is_empty())\n"
      ]
    }
  ]
}