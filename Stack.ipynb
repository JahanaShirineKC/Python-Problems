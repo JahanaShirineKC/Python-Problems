{
  "nbformat": 4,
  "nbformat_minor": 0,
  "metadata": {
    "colab": {
      "provenance": [],
      "authorship_tag": "ABX9TyPXfz2YzRzHQdsJcCWmy0os"
    },
    "kernelspec": {
      "name": "python3",
      "display_name": "Python 3"
    },
    "language_info": {
      "name": "python"
    }
  },
  "cells": [
    {
      "cell_type": "code",
      "execution_count": 1,
      "metadata": {
        "colab": {
          "base_uri": "https://localhost:8080/"
        },
        "id": "54x99vjp2NK4",
        "outputId": "26e29412-4103-4fd6-ee96-0c6ac7ac2bed"
      },
      "outputs": [
        {
          "output_type": "stream",
          "name": "stdout",
          "text": [
            "2\n",
            "40\n",
            "50\n",
            "True\n"
          ]
        }
      ],
      "source": [
        "class Stack:\n",
        "    def __init__(self):\n",
        "        self.items = []\n",
        "    def push(self,item):\n",
        "        self.items.append(item)\n",
        "    def pop(self):\n",
        "        if not self.is_empty():\n",
        "            return self.items.pop()\n",
        "    def top(self):\n",
        "        if not self.is_empty():\n",
        "            return self.items[-1]\n",
        "    def is_empty(self):\n",
        "        return len(self.items) == 0\n",
        "    def size(self):\n",
        "        return len(self.items)\n",
        "\n",
        "stack = Stack()\n",
        "stack.push(50)\n",
        "stack.push(40)\n",
        "print(stack.size())\n",
        "print(stack.pop())\n",
        "print(stack.pop())\n",
        "print(stack.is_empty())\n"
      ]
    }
  ]
}